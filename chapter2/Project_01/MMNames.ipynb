{
 "cells": [
  {
   "cell_type": "code",
   "execution_count": 16,
   "metadata": {},
   "outputs": [],
   "source": [
    "#!pip install openpyxl for reading excel"
   ]
  },
  {
   "cell_type": "code",
   "execution_count": 17,
   "metadata": {},
   "outputs": [],
   "source": [
    "import tensorflow as tf\n",
    "\n",
    "def create_classification_model(input_shape, num_classes, params={}):\n",
    "    model = tf.keras.Sequential([\n",
    "        tf.keras.layers.InputLayer(shape=input_shape),    \n",
    "        tf.keras.layers.Dense(64, activation='relu'),\n",
    "        tf.keras.layers.Dense(64, activation='relu'),\n",
    "        tf.keras.layers.Dense(16, activation='relu'),\n",
    "        tf.keras.layers.Dense(num_classes, activation='softmax')\n",
    "    ])\n",
    "\n",
    "\n",
    "    model.compile(optimizer='adam', loss='sparse_categorical_crossentropy', metrics=['accuracy'])\n",
    "    \n",
    "    return model\n"
   ]
  },
  {
   "cell_type": "code",
   "execution_count": 18,
   "metadata": {},
   "outputs": [],
   "source": [
    "import data_cleaning as dc\n",
    "dc.main()"
   ]
  },
  {
   "cell_type": "code",
   "execution_count": 19,
   "metadata": {},
   "outputs": [],
   "source": [
    "# Step 1: Load the data\n",
    "import pandas as pd\n",
    "import data_preprocessing as dp\n",
    "df = pd.read_csv('./data/MMNames_clean.csv')\n",
    "df = dp.preprocess_category(df,'SR_Name')\n",
    "X = dp.preprocess_textinput(df, 'name')\n",
    "y = df['SR_Name'].values \n"
   ]
  },
  {
   "cell_type": "code",
   "execution_count": 20,
   "metadata": {},
   "outputs": [
    {
     "name": "stdout",
     "output_type": "stream",
     "text": [
      "(13659, 2252) (5854, 2252)\n"
     ]
    }
   ],
   "source": [
    "# Step 2: Prepare the data\n",
    "from sklearn.preprocessing import StandardScaler\n",
    "from sklearn.model_selection import train_test_split\n",
    "\n",
    "X_train, X_test, y_train, y_test = train_test_split(X, y, test_size=0.3, random_state=42)\n",
    "print(X_train.shape, X_test.shape)\n"
   ]
  },
  {
   "cell_type": "code",
   "execution_count": 21,
   "metadata": {},
   "outputs": [],
   "source": [
    "# Step 4: Create and train the model\n",
    "model = create_classification_model(input_shape=[X_train.shape[1]],num_classes=len(df['SR_Name'].unique()), )\n",
    "history = model.fit(X_train, y_train, epochs=90, batch_size=32, validation_data=(X_test, y_test), verbose=0)"
   ]
  },
  {
   "cell_type": "code",
   "execution_count": 22,
   "metadata": {},
   "outputs": [
    {
     "name": "stdout",
     "output_type": "stream",
     "text": [
      "\u001b[1m183/183\u001b[0m \u001b[32m━━━━━━━━━━━━━━━━━━━━\u001b[0m\u001b[37m\u001b[0m \u001b[1m0s\u001b[0m 1ms/step\n",
      "              precision    recall  f1-score   support\n",
      "\n",
      "           0       0.40      0.35      0.37       617\n",
      "           1       0.20      0.21      0.21       273\n",
      "           2       0.25      0.23      0.24       243\n",
      "           3       0.57      0.22      0.32       214\n",
      "           4       0.38      0.48      0.42       258\n",
      "           5       0.40      0.44      0.42        54\n",
      "           6       0.32      0.26      0.29       171\n",
      "           7       0.34      0.37      0.35       664\n",
      "           8       0.21      0.33      0.26       569\n",
      "           9       0.36      0.35      0.35       199\n",
      "          10       0.19      0.11      0.14        85\n",
      "          11       0.42      0.35      0.38       399\n",
      "          12       0.41      0.41      0.41       968\n",
      "          13       0.26      0.27      0.26        82\n",
      "          14       0.62      0.57      0.59       472\n",
      "          15       0.33      0.22      0.26       188\n",
      "          16       0.32      0.38      0.35       152\n",
      "          17       0.24      0.28      0.26       246\n",
      "\n",
      "    accuracy                           0.35      5854\n",
      "   macro avg       0.35      0.32      0.33      5854\n",
      "weighted avg       0.37      0.35      0.35      5854\n",
      "\n"
     ]
    }
   ],
   "source": [
    "# Step 5: Evaluate the model\n",
    "\n",
    "from sklearn.metrics import confusion_matrix\n",
    "from sklearn.metrics import classification_report\n",
    "from sklearn.metrics import accuracy_score\n",
    "\n",
    "y_pred = model.predict(X_test)\n",
    "y_pred = y_pred.argmax(axis=1)\n",
    "report = classification_report(y_test, y_pred)\n",
    "print(report)"
   ]
  }
 ],
 "metadata": {
  "kernelspec": {
   "display_name": "Python 3",
   "language": "python",
   "name": "python3"
  },
  "language_info": {
   "codemirror_mode": {
    "name": "ipython",
    "version": 3
   },
   "file_extension": ".py",
   "mimetype": "text/x-python",
   "name": "python",
   "nbconvert_exporter": "python",
   "pygments_lexer": "ipython3",
   "version": "3.12.2"
  }
 },
 "nbformat": 4,
 "nbformat_minor": 2
}
