{
 "cells": [
  {
   "cell_type": "markdown",
   "metadata": {},
   "source": [
    "```markdown\n",
    "# Convolution Concept\n",
    "\n",
    "Convolution is a fundamental operation in image processing and computer vision. It involves applying a filter or kernel to an input image to extract features or perform various transformations.\n",
    "\n",
    "## How Convolution Works\n",
    "\n",
    "Convolution operates by sliding a filter over the input image and computing the dot product between the filter and the corresponding patch of the image. This process is repeated for every position in the image, resulting in a new output image.\n",
    "\n",
    "The filter is typically a small matrix of weights that is designed to detect specific patterns or features in the image. As the filter slides over the image, it performs a local operation that captures information about the local structure of the image.\n",
    "\n",
    "## Key Concepts\n",
    "\n",
    "- **Input Image**: The original image on which convolution is performed.\n",
    "- **Filter/Kernel**: A small matrix of weights that is applied to the input image.\n",
    "- **Patch**: A small region of the input image that is covered by the filter during convolution.\n",
    "- **Dot Product**: The element-wise multiplication of the filter and the patch, followed by summing the results.\n",
    "- **Output Image**: The result of applying the filter to the input image.\n",
    "\n",
    "## Convolution in Neural Networks\n",
    "\n",
    "Convolutional Neural Networks (CNNs) leverage the concept of convolution to extract features from images. In CNNs, multiple filters are applied to the input image simultaneously, resulting in multiple output feature maps. These feature maps capture different aspects of the image, such as edges, textures, or shapes.\n",
    "\n",
    "CNNs use convolution as a building block for various operations, such as image classification, object detection, and image segmentation. The ability of convolution to capture local patterns and spatial relationships makes it well-suited for analyzing visual data.\n",
    "\n",
    "## Conclusion\n",
    "\n",
    "Convolution is a powerful operation in image processing and computer vision. It allows us to extract features from images and perform various transformations. Understanding the concept of convolution is essential for working with convolutional neural networks and developing computer vision applications.\n",
    "```"
   ]
  },
  {
   "cell_type": "code",
   "execution_count": 2,
   "metadata": {},
   "outputs": [
    {
     "data": {
      "image/png": "[encoded data removed]",
      "text/plain": [
       "<Figure size 640x480 with 1 Axes>"
      ]
     },
     "metadata": {},
     "output_type": "display_data"
    }
   ],
   "source": [
    "import numpy as np\n",
    "from scipy.signal import convolve2d\n",
    "\n",
    "# Define the original matrix\n",
    "matrix = np.array([\n",
    "    [34, 67, 123, 89, 56],\n",
    "    [12, 200, 189, 56, 78],\n",
    "    [98, 45, 34, 12, 67],\n",
    "    [56, 89, 145, 34, 23],\n",
    "    [78, 134, 56, 67, 123]\n",
    "])\n",
    "\n",
    "# Define the kernel matrix\n",
    "kernel = np.array([\n",
    "    [1, 0, -1],\n",
    "    [1, 0, -1],\n",
    "    [1, 0, -1]\n",
    "])\n",
    "\n",
    "# Perform convolution\n",
    "result = convolve2d(matrix, kernel, mode='valid')\n",
    "\"\"\"\n",
    "print(\"Original Matrix:\\n\", matrix)\n",
    "print(\"Kernel Matrix:\\n\", kernel)\n",
    "print(\"Resulting Matrix after Convolution:\\n\", result)\n",
    "\"\"\"\n",
    "import matplotlib.pyplot as plt\n",
    "\n",
    "# Display the matrix as an image\n",
    "plt.imshow(matrix, cmap='gray')\n",
    "plt.axis('off')\n",
    "plt.show()"
   ]
  }
 ],
 "metadata": {
  "kernelspec": {
   "display_name": ".venv",
   "language": "python",
   "name": "python3"
  },
  "language_info": {
   "codemirror_mode": {
    "name": "ipython",
    "version": 3
   },
   "file_extension": ".py",
   "mimetype": "text/x-python",
   "name": "python",
   "nbconvert_exporter": "python",
   "pygments_lexer": "ipython3",
   "version": "3.12.1"
  }
 },
 "nbformat": 4,
 "nbformat_minor": 2
}
