{
 "cells": [
  {
   "cell_type": "raw",
   "metadata": {},
   "source": [
    "\\documentclass{article}\n",
    "\\usepackage{graphicx}\n",
    "\n",
    "\\begin{document}\n",
    "\n",
    "\\title{Project Description: Handwritten Digit Recognition}\n",
    "\\author{Your Name}\n",
    "\\date{\\today}\n",
    "\\maketitle\n",
    "\n",
    "\\section{Introduction}\n",
    "Handwritten digit recognition is a classic problem in the field of computer vision and machine learning. It involves training a model to recognize and classify handwritten digits (0-9) from images. This project aims to develop a deep learning model that can accurately identify handwritten digits in images.\n",
    "\n",
    "\\section{Objective}\n",
    "The main objective of this project is to build and deploy a machine learning model capable of recognizing handwritten digits with high accuracy. The model will be trained on a dataset of handwritten digit images and will be able to classify new images into the correct digit category.\n",
    "\n",
    "\\section{Approach}\n",
    "\\begin{enumerate}\n",
    "    \\item \\textbf{Data Collection}: Obtain a dataset of handwritten digit images. The MNIST dataset is a commonly used benchmark dataset for this task, containing 28x28 grayscale images of handwritten digits.\n",
    "  \n",
    "    \\item \\textbf{Data Preprocessing}: Preprocess the dataset by normalizing the pixel values and reshaping the images to a suitable format for training. Additionally, split the dataset into training and testing sets.\n",
    "  \n",
    "    \\item \\textbf{Model Selection}: Choose a suitable deep learning architecture for the task of digit recognition. Convolutional Neural Networks (CNNs) are commonly used for image classification tasks due to their ability to learn hierarchical features from images.\n",
    "  \n",
    "    \\item \\textbf{Model Training}: Train the selected model using the training data. Adjust hyperparameters such as learning rate, batch size, and number of epochs to achieve optimal performance. Monitor the model's performance on the validation set to prevent overfitting.\n",
    "  \n",
    "    \\item \\textbf{Model Evaluation}: Evaluate the trained model on the test set to measure its accuracy and performance. Use metrics such as accuracy, precision, recall, and F1-score to assess the model's performance.\n",
    "  \n",
    "    \\item \\textbf{Deployment}: Deploy the trained model for real-world use cases. This can involve building a user interface where users can input handwritten digits and receive predictions from the model.\n",
    "\\end{enumerate}\n",
    "\n",
    "\\section{Tools and Technologies}\n",
    "\\begin{itemize}\n",
    "    \\item Python: Programming language for model development and data manipulation.\n",
    "    \\item TensorFlow or PyTorch: Deep learning frameworks for building and training neural networks.\n",
    "    \\item OpenCV: Library for image processing and manipulation.\n",
    "    \\item Flask or Django: Web frameworks for building the model deployment interface.\n",
    "\\end{itemize}\n",
    "\n",
    "\\section{Outcome}\n",
    "The outcome of this project will be a trained machine learning model capable of accurately recognizing handwritten digits from images. This model can be used in various applications, such as digit recognition in postal services, bank cheque processing, and automatic form processing. Additionally, the project will provide valuable insights into the process of building and deploying machine learning models for image classification tasks.\n",
    "\n",
    "\\end{document}\n"
   ]
  },
  {
   "cell_type": "code",
   "execution_count": 1,
   "metadata": {},
   "outputs": [],
   "source": [
    "from keras.datasets import mnist\n",
    "from keras.models import Sequential\n",
    "from keras.utils import to_categorical\n",
    "from keras.layers import Input, Conv2D, MaxPooling2D, Flatten, Dense\n",
    "from tensorflow import keras"
   ]
  },
  {
   "cell_type": "code",
   "execution_count": 2,
   "metadata": {},
   "outputs": [],
   "source": [
    "def create_cnn_model(input_shape):\n",
    "    \n",
    "    # Create an Input layer\n",
    "    inputs = Input(shape=input_shape)\n",
    "    \n",
    "    # Define the rest of the model architecture\n",
    "    model = Sequential() \n",
    "\n",
    "    # Add convolutional layers\n",
    "    model.add(Conv2D(32, kernel_size=(3, 3), activation='relu'))\n",
    "    model.add(MaxPooling2D(pool_size=(2, 2)))\n",
    "    model.add(Conv2D(64, kernel_size=(3, 3), activation='relu'))\n",
    "    model.add(MaxPooling2D(pool_size=(2, 2)))\n",
    "\n",
    "    # Flatten the output from the convolutional layers\n",
    "    model.add(Flatten())\n",
    "\n",
    "    # Add fully connected layers\n",
    "    model.add(Dense(128, activation='relu'))\n",
    "    model.add(Dense(10, activation='softmax'))\n",
    "\n",
    "    # Compile the model\n",
    "    model.compile(optimizer='adam', loss='categorical_crossentropy', metrics=['accuracy'])   \n",
    "    return model"
   ]
  },
  {
   "cell_type": "code",
   "execution_count": 3,
   "metadata": {},
   "outputs": [],
   "source": [
    "def save_results(y_test, y_pred, X_test, file_path):\n",
    "    import pandas as pd\n",
    "    import numpy as np\n",
    "    result_df = pd.DataFrame({'Test': y_test.argmax(axis=1), 'Pred': y_pred.argmax(axis=1)})\n",
    "    result_df.to_csv(file_path + 'result.csv', index=False)\n",
    "    import matplotlib.pyplot as plt\n",
    "    # Display the first image in the testing set\n",
    "    idx = np.random.randint(0, X_test.shape[0])\n",
    "    plt.imshow(X_test[idx], cmap='gray')\n",
    "    plt.axis('off')\n",
    "    plt.title(f\"Predicted as: {y_pred[idx].argmax()} with percentage of {y_pred[idx].max()*100:.0f}%\")\n",
    "    num = y_test[idx].argmax()\n",
    "    plt.savefig(file_path + str(num) + '.png', dpi = 100, bbox_inches = 'tight')\n",
    "    plt.show()"
   ]
  },
  {
   "cell_type": "code",
   "execution_count": 11,
   "metadata": {},
   "outputs": [
    {
     "name": "stdout",
     "output_type": "stream",
     "text": [
      "\u001b[1m313/313\u001b[0m \u001b[32m━━━━━━━━━━━━━━━━━━━━\u001b[0m\u001b[37m\u001b[0m \u001b[1m0s\u001b[0m 1ms/step\n",
      "\u001b[1m313/313\u001b[0m \u001b[32m━━━━━━━━━━━━━━━━━━━━\u001b[0m\u001b[37m\u001b[0m \u001b[1m0s\u001b[0m 1ms/step - accuracy: 0.9899 - loss: 0.0320\n",
      "Test Loss: 0.027307266369462013\n",
      "Test Accuracy: 0.9921000003814697\n"
     ]
    },
    {
     "data": {
      "image/png": "[encoded data removed]",
      "text/plain": [
       "<Figure size 640x480 with 1 Axes>"
      ]
     },
     "metadata": {},
     "output_type": "display_data"
    }
   ],
   "source": [
    "#using mnist dataset\n",
    "(X_train, y_train), (X_test, y_test) = mnist.load_data()\n",
    "# Preprocess the data\n",
    "X_train = X_train.reshape(-1, 28, 28, 1).astype(\"float32\") / 255.0\n",
    "X_test = X_test.reshape(-1, 28, 28, 1).astype(\"float32\") / 255.0\n",
    "\n",
    "# Convert the labels to one-hot encoded vectors\n",
    "y_train = keras.utils.to_categorical(y_train, num_classes=10)\n",
    "y_test = keras.utils.to_categorical(y_test, num_classes=10)\n",
    "\n",
    "input_shape = (28,28,1) \n",
    "model = create_cnn_model(input_shape)\n",
    "model.fit(X_train, y_train, batch_size=128, epochs=10, validation_split=0.1, verbose=0)\n",
    "y_pred = model.predict(X_test)\n",
    "test_loss, test_accuracy = model.evaluate(X_test, y_test)\n",
    "print(\"Test Loss:\", test_loss)\n",
    "print(\"Test Accuracy:\", test_accuracy)\n",
    "\n",
    "file_path = './results/mnist/'\n",
    "save_results(y_test, y_pred, X_test, file_path)"
   ]
  },
  {
   "cell_type": "code",
   "execution_count": 4,
   "metadata": {},
   "outputs": [
    {
     "name": "stdout",
     "output_type": "stream",
     "text": [
      "(1554, 64, 64) (666, 64, 64) (1554,) (666,)\n",
      "\u001b[1m21/21\u001b[0m \u001b[32m━━━━━━━━━━━━━━━━━━━━\u001b[0m\u001b[37m\u001b[0m \u001b[1m0s\u001b[0m 4ms/step\n",
      "\u001b[1m21/21\u001b[0m \u001b[32m━━━━━━━━━━━━━━━━━━━━\u001b[0m\u001b[37m\u001b[0m \u001b[1m0s\u001b[0m 3ms/step - accuracy: 0.4378 - loss: 1.7939\n",
      "Test Loss: 1.8392817974090576\n",
      "Test Accuracy: 0.402402400970459\n"
     ]
    },
    {
     "data": {
      "image/png": "[encoded data removed]",
      "text/plain": [
       "<Figure size 640x480 with 1 Axes>"
      ]
     },
     "metadata": {},
     "output_type": "display_data"
    }
   ],
   "source": [
    "import os\n",
    "import mmdigits\n",
    "from sklearn.model_selection import train_test_split\n",
    "\n",
    "# Specify the directory containing the dataset\n",
    "dataset_dir = \"./dataset/MM_digits/\"\n",
    "width = 64\n",
    "height = 64\n",
    "# Load the dataset\n",
    "images, labels = mmdigits.load_dataset(dataset_dir)\n",
    "\n",
    "X_train, X_test, y_train, y_test = train_test_split(images, labels, test_size=0.3, random_state=42)\n",
    "print(X_train.shape, X_test.shape, y_train.shape, y_test.shape)\n",
    "\n",
    "# Preprocess the data\n",
    "X_train = X_train.reshape(-1, width, height, 1).astype(\"float32\") / 255.0\n",
    "X_test = X_test.reshape(-1, width, height,1).astype(\"float32\") / 255.0\n",
    "\n",
    "# Convert the labels to one-hot encoded vectors\n",
    "y_train = keras.utils.to_categorical(y_train, num_classes=10)\n",
    "y_test = keras.utils.to_categorical(y_test, num_classes=10)\n",
    "\n",
    "input_shape = (width,height,1) \n",
    "model = create_cnn_model(input_shape)\n",
    "model.fit(X_train, y_train, batch_size=128, epochs=10, validation_split=0.1, verbose=0)\n",
    "y_pred = model.predict(X_test)\n",
    "test_loss, test_accuracy = model.evaluate(X_test, y_test)\n",
    "print(\"Test Loss:\", test_loss)\n",
    "print(\"Test Accuracy:\", test_accuracy)\n",
    "\n",
    "file_path = './results/mmdigit/'\n",
    "if not os.path.exists(file_path):\n",
    "    os.makedirs(file_path)\n",
    "save_results(y_test, y_pred, X_test, file_path)"
   ]
  }
 ],
 "metadata": {
  "kernelspec": {
   "display_name": ".venv",
   "language": "python",
   "name": "python3"
  },
  "language_info": {
   "codemirror_mode": {
    "name": "ipython",
    "version": 3
   },
   "file_extension": ".py",
   "mimetype": "text/x-python",
   "name": "python",
   "nbconvert_exporter": "python",
   "pygments_lexer": "ipython3",
   "version": "3.12.1"
  }
 },
 "nbformat": 4,
 "nbformat_minor": 2
}
