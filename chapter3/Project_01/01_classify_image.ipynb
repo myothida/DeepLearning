{
 "cells": [
  {
   "cell_type": "markdown",
   "metadata": {},
   "source": [
    "# Project Description\n",
    "\n",
    "## Image Classification Using Known CNN Models\n",
    "\n",
    "### Overview\n",
    "\n",
    "In this project, we classify images using five well-known Convolutional Neural Network (CNN) models implemented with the Python `keras` library. The models used are `ResNet50`, `VGG16`, `InceptionV3`, `Xception`, and `EfficientNetB7`. The goal is to load an image, pass it through each of these models, and obtain the top prediction for the image. This project consists of two Python scripts: one for defining the CNN models (`cnn_models.py`) and one main script (`main.py`) for classifying an image.\n",
    "\n",
    "### Project Components\n",
    "\n",
    "#### 1. `cnn_models.py`\n",
    "\n",
    "This script defines a class, `cnnModels`, which provides an interface to load and use the pre-trained CNN models. The class includes methods for initializing models, retrieving models by name, and classifying images.\n",
    "\n",
    "##### `cnnModels` Class\n",
    "\n",
    "- **`__init__(self)`**: Initializes the class and loads the pre-trained models.\n",
    "- **`resnet(self)`**: Loads and returns the `ResNet50` model with ImageNet weights.\n",
    "- **`vggnet(self)`**: Loads and returns the `VGG16` model with ImageNet weights.\n",
    "- **`inception(self)`**: Loads and returns the `InceptionV3` model with ImageNet weights.\n",
    "- **`convnet(self)`**: Loads and returns the `Xception` model with ImageNet weights.\n",
    "- **`efficientnet(self)`**: Loads and returns the `EfficientNetB7` model with ImageNet weights.\n",
    "- **`get_model(self, name)`**: Retrieves a model by name from the dictionary of models.\n",
    "- **`classify_image(self, name, img)`**: Classifies an image using the specified model and returns the top 3 predictions.\n",
    "\n",
    "#### 2. `main.ipynb`\n",
    "\n",
    "This script demonstrates how to use the `cnnModels` class to classify an image.\n",
    "\n",
    "##### Example Usage\n",
    "\n",
    "```python\n",
    "from cnn_models import cnnModels\n",
    "from keras.preprocessing.image import load_img\n",
    "\n",
    "# Specify the image path\n",
    "img_path = './imgs/dog.jpeg'\n",
    "img = load_img(img_path)\n",
    "\n",
    "# Initialize the cnnModels class\n",
    "model = cnnModels()\n",
    "\n",
    "# Classify the image using ResNet50\n",
    "preds1 = model.classify_image('ResNet50', img)\n",
    "\n",
    "# Print the top predictions\n",
    "for pred in preds1:\n",
    "    print(f\"{pred[1]}: {pred[2]}, {pred[3]}\")\n"
   ]
  },
  {
   "cell_type": "code",
   "execution_count": 1,
   "metadata": {},
   "outputs": [
    {
     "ename": "FileNotFoundError",
     "evalue": "[Errno 2] No such file or directory: './imgs/dog.jpeg'",
     "output_type": "error",
     "traceback": [
      "\u001b[1;31m---------------------------------------------------------------------------\u001b[0m",
      "\u001b[1;31mFileNotFoundError\u001b[0m                         Traceback (most recent call last)",
      "Cell \u001b[1;32mIn[1], line 8\u001b[0m\n\u001b[0;32m      6\u001b[0m \u001b[38;5;66;03m# Specify the image path\u001b[39;00m\n\u001b[0;32m      7\u001b[0m img_path \u001b[38;5;241m=\u001b[39m \u001b[38;5;124m'\u001b[39m\u001b[38;5;124m./imgs/dog.jpeg\u001b[39m\u001b[38;5;124m'\u001b[39m\n\u001b[1;32m----> 8\u001b[0m img \u001b[38;5;241m=\u001b[39m \u001b[43mload_img\u001b[49m\u001b[43m(\u001b[49m\u001b[43mimg_path\u001b[49m\u001b[43m)\u001b[49m\n\u001b[0;32m     10\u001b[0m model \u001b[38;5;241m=\u001b[39m cnn_models\u001b[38;5;241m.\u001b[39mcnnModels()\n\u001b[0;32m     11\u001b[0m model_name \u001b[38;5;241m=\u001b[39m [\u001b[38;5;124m'\u001b[39m\u001b[38;5;124mResNet50\u001b[39m\u001b[38;5;124m'\u001b[39m, \u001b[38;5;124m'\u001b[39m\u001b[38;5;124mVGGNet16\u001b[39m\u001b[38;5;124m'\u001b[39m, \u001b[38;5;124m'\u001b[39m\u001b[38;5;124mInceptionV3\u001b[39m\u001b[38;5;124m'\u001b[39m, \u001b[38;5;124m'\u001b[39m\u001b[38;5;124mConvNeXt\u001b[39m\u001b[38;5;124m'\u001b[39m, \u001b[38;5;124m'\u001b[39m\u001b[38;5;124mEfficientNet\u001b[39m\u001b[38;5;124m'\u001b[39m]\n",
      "File \u001b[1;32me:\\Projects\\DeepLearning\\.venv\\Lib\\site-packages\\keras\\src\\utils\\image_utils.py:235\u001b[0m, in \u001b[0;36mload_img\u001b[1;34m(path, color_mode, target_size, interpolation, keep_aspect_ratio)\u001b[0m\n\u001b[0;32m    233\u001b[0m     \u001b[38;5;28;01mif\u001b[39;00m \u001b[38;5;28misinstance\u001b[39m(path, pathlib\u001b[38;5;241m.\u001b[39mPath):\n\u001b[0;32m    234\u001b[0m         path \u001b[38;5;241m=\u001b[39m \u001b[38;5;28mstr\u001b[39m(path\u001b[38;5;241m.\u001b[39mresolve())\n\u001b[1;32m--> 235\u001b[0m     \u001b[38;5;28;01mwith\u001b[39;00m \u001b[38;5;28;43mopen\u001b[39;49m\u001b[43m(\u001b[49m\u001b[43mpath\u001b[49m\u001b[43m,\u001b[49m\u001b[43m \u001b[49m\u001b[38;5;124;43m\"\u001b[39;49m\u001b[38;5;124;43mrb\u001b[39;49m\u001b[38;5;124;43m\"\u001b[39;49m\u001b[43m)\u001b[49m \u001b[38;5;28;01mas\u001b[39;00m f:\n\u001b[0;32m    236\u001b[0m         img \u001b[38;5;241m=\u001b[39m pil_image\u001b[38;5;241m.\u001b[39mopen(io\u001b[38;5;241m.\u001b[39mBytesIO(f\u001b[38;5;241m.\u001b[39mread()))\n\u001b[0;32m    237\u001b[0m \u001b[38;5;28;01melse\u001b[39;00m:\n",
      "\u001b[1;31mFileNotFoundError\u001b[0m: [Errno 2] No such file or directory: './imgs/dog.jpeg'"
     ]
    }
   ],
   "source": [
    "import cnn_models\n",
    "import pandas as pd\n",
    "from keras.utils import load_img  #type: ignore\n",
    "\n",
    "\n",
    "# Specify the image path\n",
    "img_path = './imgs/dog.jpeg'\n",
    "img = load_img(img_path)\n",
    "\n",
    "model = cnn_models.cnnModels()\n",
    "model_name = ['ResNet50', 'VGGNet16', 'InceptionV3', 'ConvNeXt', 'EfficientNet']\n",
    "flat_preds = []\n",
    "\n",
    "for name in model_name:\n",
    "    preds = model.classify_image(name, img)\n",
    "    flat_preds.extend([item for sublist in preds for item in sublist])\n",
    "\n",
    "\n",
    "df_flat_preds = pd.DataFrame(flat_preds, columns=['model', 'Class', 'Probability'])\n",
    "df_flat_preds['model']= model_name\n",
    "df_flat_preds"
   ]
  },
  {
   "cell_type": "markdown",
   "metadata": {},
   "source": [
    "The state-of-the-art CNN models are tested using two datasets: \n",
    "1) AI-generated Images that contains 10 images\n",
    "2) 10 Real Images collected from the internet\n",
    "\n",
    "average accuracy, precision and recall scores. "
   ]
  },
  {
   "cell_type": "code",
   "execution_count": 2,
   "metadata": {},
   "outputs": [
    {
     "name": "stdout",
     "output_type": "stream",
     "text": [
      "WARNING:tensorflow:From e:\\Projects\\DeepLearning\\.venv\\Lib\\site-packages\\keras\\src\\backend\\tensorflow\\core.py:184: The name tf.placeholder is deprecated. Please use tf.compat.v1.placeholder instead.\n",
      "\n",
      "Downloading data from https://storage.googleapis.com/tensorflow/keras-applications/convnext/convnext_tiny.h5\n",
      "\u001b[1m114735104/114735104\u001b[0m \u001b[32m━━━━━━━━━━━━━━━━━━━━\u001b[0m\u001b[37m\u001b[0m \u001b[1m10s\u001b[0m 0us/step\n"
     ]
    }
   ],
   "source": [
    "import os\n",
    "\n",
    "fake_dir = './dataset/synthetic/'\n",
    "real_dir = './dataset/real/'\n",
    "\n",
    "model_name = ['ResNet50', 'VGGNet16', 'InceptionV3', 'ConvNeXt', 'EfficientNet']\n",
    "image_dir = fake_dir\n",
    "\n",
    "result_df = pd.DataFrame()\n",
    "\n",
    "labels =[]\n",
    "\n",
    "for filename in os.listdir(image_dir):\n",
    "    if filename.endswith('.jpeg') or filename.endswith('.png'):\n",
    "        image_path = os.path.join(image_dir, filename)\n",
    "        img = load_img(image_path)   \n",
    "        labels.append(filename.split('.')[0])\n",
    "        prob_preds = []\n",
    "        class_preds = []\n",
    "        for name in model_name:\n",
    "            preds = model.classify_image(name, img)[0][0][1:3]\n",
    "            class_preds.append(preds[0])\n",
    "            prob_preds.append(preds[1])\n",
    "        row_value = class_preds + prob_preds\n",
    "        \n",
    "        result_df.append(row_value, ignore_index=True)\n",
    "\n",
    "        \n",
    "    \n",
    "result_df['label'] = labels\n",
    "    \n",
    "\n",
    " \n",
    "\n"
   ]
  }
 ],
 "metadata": {
  "kernelspec": {
   "display_name": ".venv",
   "language": "python",
   "name": "python3"
  },
  "language_info": {
   "codemirror_mode": {
    "name": "ipython",
    "version": 3
   },
   "file_extension": ".py",
   "mimetype": "text/x-python",
   "name": "python",
   "nbconvert_exporter": "python",
   "pygments_lexer": "ipython3",
   "version": "3.12.1"
  }
 },
 "nbformat": 4,
 "nbformat_minor": 2
}
