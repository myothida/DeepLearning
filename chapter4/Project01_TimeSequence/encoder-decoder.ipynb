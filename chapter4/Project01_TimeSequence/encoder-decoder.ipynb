{
 "cells": [
  {
   "cell_type": "code",
   "execution_count": 91,
   "metadata": {},
   "outputs": [
    {
     "name": "stdout",
     "output_type": "stream",
     "text": [
      "(241, 12, 1) (61, 12, 1) (241, 3) (61, 3)\n"
     ]
    }
   ],
   "source": [
    "from sklearn.preprocessing import MinMaxScaler \n",
    "from sklearn.model_selection import train_test_split\n",
    "import pandas as pd  \n",
    "import numpy as np  \n",
    "\n",
    "scaler = MinMaxScaler()\n",
    "monthly_events = pd.read_csv('./data/monthly_events.csv')\n",
    "monthly_events['num_events'] = scaler.fit_transform(monthly_events[['num_events']])\n",
    "\n",
    "# Create sequences for encoder-decoder\n",
    "def create_sequences(data, n_steps_in, n_steps_out):\n",
    "    X, y = [], []\n",
    "    for i in range(len(data) - n_steps_in - n_steps_out):\n",
    "        X.append(data[i:i + n_steps_in])\n",
    "        y.append(data[i + n_steps_in:i + n_steps_in + n_steps_out])\n",
    "    return np.array(X), np.array(y)\n",
    "\n",
    "# Define the number of input and output steps\n",
    "n_steps_in, n_steps_out = 12, 3  # use 1 year data as input and predict 3 months\n",
    "\n",
    "# Create the sequences\n",
    "X, y = create_sequences(monthly_events['num_events'].values, n_steps_in, n_steps_out)\n",
    "\n",
    "# Reshape data for LSTM\n",
    "X = X.reshape((X.shape[0], X.shape[1], 1))\n",
    "\n",
    "X_train, X_test, y_train, y_test = train_test_split(X, y, test_size=0.2, random_state=42)\n",
    "print(X_train.shape, X_test.shape, y_train.shape, y_test.shape)\n"
   ]
  },
  {
   "cell_type": "code",
   "execution_count": 81,
   "metadata": {},
   "outputs": [],
   "source": [
    "from tensorflow.keras.models import Model # type: ignore\n",
    "from tensorflow.keras.layers import Input, LSTM, Dense # type: ignore\n",
    "\n",
    "# Define the input sequence length and number of features\n",
    "input_seq_length = X.shape[1]\n",
    "num_features = X.shape[2]\n",
    "output_seq_length = 3\n",
    "\n",
    "# Define the encoder input layer\n",
    "encoder_inputs = Input(shape=(input_seq_length, num_features))\n",
    "\n",
    "# Define the encoder LSTM layer\n",
    "encoder_lstm = LSTM(64, return_state=True)\n",
    "encoder_outputs, state_h, state_c = encoder_lstm(encoder_inputs)\n",
    "\n",
    "# Discard encoder outputs and only keep the states\n",
    "encoder_states = [state_h, state_c]\n",
    "\n",
    "# Define the decoder input layer\n",
    "decoder_inputs = Input(shape=(output_seq_length, num_features))\n",
    "\n",
    "# Define the decoder LSTM layer\n",
    "decoder_lstm = LSTM(64, return_sequences=True, return_state=True)\n",
    "decoder_outputs, _, _ = decoder_lstm(decoder_inputs, initial_state=encoder_states)\n",
    "\n",
    "# Define the decoder output layer\n",
    "decoder_dense = Dense(num_features, activation='sigmoid')\n",
    "decoder_outputs = decoder_dense(decoder_outputs)\n",
    "\n",
    "# Define the model with encoder and decoder inputs and outputs\n",
    "model = Model([encoder_inputs, decoder_inputs], decoder_outputs)\n",
    "\n",
    "model.compile(optimizer='adam', loss='mean_squared_error')"
   ]
  },
  {
   "cell_type": "code",
   "execution_count": 82,
   "metadata": {},
   "outputs": [
    {
     "name": "stdout",
     "output_type": "stream",
     "text": [
      "\u001b[1m2/2\u001b[0m \u001b[32m━━━━━━━━━━━━━━━━━━━━\u001b[0m\u001b[37m\u001b[0m \u001b[1m0s\u001b[0m 101ms/step\n"
     ]
    }
   ],
   "source": [
    "# Fit the model\n",
    "model.fit([X_train, y_train], y_train, epochs=100, batch_size=32, validation_data=([X_test, y_test], y_test), verbose=0)\n",
    "# Predict the outputs\n",
    "y_pred = model.predict([X_test, y_test])\n",
    "\n",
    "\n",
    "y_pred_df = pd.DataFrame(y_pred.reshape(y_pred.shape[0], y_pred.shape[1]), \n",
    "                          columns=[f'PredStep_{i+1}' for i in range(y_pred.shape[1])])\n",
    "y_pred_df['Sample'] = y_pred_df.index"
   ]
  },
  {
   "cell_type": "code",
   "execution_count": 97,
   "metadata": {},
   "outputs": [
    {
     "data": {
      "text/plain": [
       "(61, 18)"
      ]
     },
     "execution_count": 97,
     "metadata": {},
     "output_type": "execute_result"
    }
   ],
   "source": [
    "# Convert X_test to DataFrame\n",
    "X_test_df = pd.DataFrame(X_test.reshape(X_test.shape[0], X_test.shape[1]), \n",
    "                          columns=[f'TimeStep_{i+1}' for i in range(X_test.shape[1])])\n",
    "X_test_df['Sample'] = X_test_df.index\n",
    "\n",
    "# Convert y_test to DataFrame\n",
    "y_test_df = pd.DataFrame(y_test, \n",
    "                          columns=[f'FutureStep_{i+1}' for i in range(y_test.shape[1])])\n",
    "y_test_df['Sample'] = y_test_df.index\n",
    "\n",
    "test_df = pd.merge(X_test_df, y_test_df, on='Sample')\n",
    "result_df = pd.merge(test_df, y_pred_df, on='Sample')\n",
    "result_df.head()\n",
    "\n",
    "denormalized_result = scaler.inverse_transform(result_df)\n",
    "denormalized_result_df = pd.DataFrame(denormalized_result, columns=result_df.columns)\n",
    "denormalized_result_df.drop(columns='Sample', inplace=True)\n",
    "denormalized_result_df.round(0).head()\n",
    "denormalized_result_df.shape"
   ]
  },
  {
   "cell_type": "code",
   "execution_count": 101,
   "metadata": {},
   "outputs": [
    {
     "data": {
      "text/plain": [
       "(302, 15)"
      ]
     },
     "execution_count": 101,
     "metadata": {},
     "output_type": "execute_result"
    }
   ],
   "source": [
    "X_df = pd.DataFrame(X.reshape(X.shape[0], X.shape[1]), \n",
    "                          columns=[f'TimeStep_{i+1}' for i in range(X.shape[1])])\n",
    "X_df['Sample'] = X_df.index\n",
    "\n",
    "\n",
    "y_df = pd.DataFrame(y, columns=[f'FutureStep_{i+1}' for i in range(y.shape[1])])\n",
    "y_df['Sample'] = y_df.index\n",
    "\n",
    "# Concatenate the two dataframes on the 'Sample' column\n",
    "combined_df = pd.merge(X_df, y_df, on='Sample')\n",
    "combined_df.drop('Sample', axis=1, inplace=True)\n",
    "combined_results = scaler.inverse_transform(combined_df )\n",
    "combined_df  = pd.DataFrame(combined_results , columns=combined_df.columns)\n",
    "combined_df.shape"
   ]
  }
 ],
 "metadata": {
  "kernelspec": {
   "display_name": ".venv",
   "language": "python",
   "name": "python3"
  },
  "language_info": {
   "codemirror_mode": {
    "name": "ipython",
    "version": 3
   },
   "file_extension": ".py",
   "mimetype": "text/x-python",
   "name": "python",
   "nbconvert_exporter": "python",
   "pygments_lexer": "ipython3",
   "version": "3.12.1"
  }
 },
 "nbformat": 4,
 "nbformat_minor": 2
}
