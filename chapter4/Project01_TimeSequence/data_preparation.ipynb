{
 "cells": [
  {
   "cell_type": "markdown",
   "metadata": {},
   "source": [
    "https://acleddata.com/2021/12/08/violence-targeting-women-in-politics-trends-in-targets-types-and-perpetrators-of-political-violence/\n",
    "\n",
    "The project focuses on analyzing Political Violence Targeting Women (PVTW), a dataset that specifically identifies instances where women or girls are targeted due to their gender identity within the context of political violence. This dataset captures targeted violence against women regardless of their direct involvement in politics, encompassing a broad spectrum of incidents where gender is the primary reason for targeting.\n",
    "\n",
    "Remark: PVTW does not cover all forms of political violence affecting women; it specifically excludes cases where gender is not the primary reason for targeting.\n",
    "\n",
    "The objective of this project is to predict the number of events quarterly, specifically targeting the 3rd quarter of 2024, using data from the previous 12 months. \n",
    "\n",
    "Quarterly Prediction: Predict the number of events for the 3rd quarter of 2024 using historical data from the previous 12 months (from July 2023 to June 2024).\n",
    "\n",
    "Data Preparation: Prepare your dataset (monthly_events.csv) which likely includes monthly counts of events over several years.\n",
    "\n",
    "Sequence Data Preparation: Create sequences of data where each input sequence spans 12 months (1 year), and the corresponding output sequence is the number of events for the subsequent quarter.\n",
    "\n",
    "Model Selection: Choose appropriate sequence prediction models such as LSTM (Long Short-Term Memory) networks, which are effective for learning from sequential data.\n",
    "\n",
    "Training and Evaluation: Train your chosen model on historical data (up to June 2024) and evaluate its performance using appropriate metrics. Adjust the model as necessary based on validation results.\n",
    "\n",
    "Prediction: Use the trained model to predict the number of events for the 3rd quarter of 2024 based on data from July 2023 to June 2024."
   ]
  },
  {
   "cell_type": "markdown",
   "metadata": {},
   "source": [
    "The dataset used for this analysis is sourced from 'gender_jun21-1.csv', which contains a comprehensive record of events spanning various attributes such as event ID, date, location details, actors involved, event types, and additional metadata. The dataset comprises 72,585 rows and includes information on political events targeting women, among other types of events.\n",
    "\n",
    "The dataset preparation aimed to transform raw event data into a structured format suitable for temporal analysis and predictive modeling. By focusing on monthly event counts, the analysis intends to uncover trends and patterns in political violence targeting women and other relevant events over time."
   ]
  },
  {
   "cell_type": "code",
   "execution_count": 2,
   "metadata": {},
   "outputs": [],
   "source": [
    "import pandas as pd\n",
    "import numpy as np\n",
    "from sklearn.preprocessing import MinMaxScaler\n",
    "\n",
    "df = pd.read_csv('gender_Jun21-1.csv')\n",
    "# Convert 'event_date' to datetime\n",
    "df['event_date'] = pd.to_datetime(df['event_date'])\n",
    "\n",
    "# Extract year and month\n",
    "df['year'] = df['event_date'].dt.year\n",
    "df['month'] = df['event_date'].dt.month\n",
    "\n",
    "# Group by year and month, and count the number of events\n",
    "monthly_events = df.groupby(['year', 'month']).size().reset_index(name='num_events')\n",
    "monthly_events = monthly_events.reset_index().rename(columns={'index': 'month'})\n",
    "monthly_events.to_csv('./data/monthly_events.csv', index=False)\n"
   ]
  }
 ],
 "metadata": {
  "kernelspec": {
   "display_name": ".venv",
   "language": "python",
   "name": "python3"
  },
  "language_info": {
   "codemirror_mode": {
    "name": "ipython",
    "version": 3
   },
   "file_extension": ".py",
   "mimetype": "text/x-python",
   "name": "python",
   "nbconvert_exporter": "python",
   "pygments_lexer": "ipython3",
   "version": "3.12.1"
  }
 },
 "nbformat": 4,
 "nbformat_minor": 2
}
