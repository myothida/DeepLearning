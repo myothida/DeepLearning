{
 "cells": [
  {
   "cell_type": "code",
   "execution_count": null,
   "metadata": {},
   "outputs": [],
   "source": [
    "import numpy as np\n",
    "from keras.models import Sequential\n",
    "from keras.layers import SimpleRNN, Dense\n",
    "\n",
    "# Define the model\n",
    "model = Sequential()\n",
    "model.add(SimpleRNN(units=32, input_shape=(None, 1)))\n",
    "model.add(Dense(units=1))\n",
    "\n",
    "# Compile the model\n",
    "model.compile(loss='mean_squared_error', optimizer='adam')\n",
    "\n",
    "# Train the model\n",
    "X_train = np.array(...)  # Input data\n",
    "y_train = np.array(...)  # Target data\n",
    "model.fit(X_train, y_train, epochs=10, batch_size=32)"
   ]
  },
  {
   "cell_type": "code",
   "execution_count": 1,
   "metadata": {},
   "outputs": [
    {
     "name": "stdout",
     "output_type": "stream",
     "text": [
      "Output: [[0.00219041]]\n"
     ]
    }
   ],
   "source": [
    "import numpy as np\n",
    "\n",
    "class VanillaRNN:\n",
    "    def __init__(self, input_size, hidden_size, output_size):\n",
    "        self.hidden_size = hidden_size\n",
    "        self.Wxh = np.random.randn(hidden_size, input_size) * 0.01  # input to hidden\n",
    "        self.Whh = np.random.randn(hidden_size, hidden_size) * 0.01 # hidden to hidden\n",
    "        self.Why = np.random.randn(output_size, hidden_size) * 0.01 # hidden to output\n",
    "        self.bh = np.zeros((hidden_size, 1))  # hidden bias\n",
    "        self.by = np.zeros((output_size, 1))  # output bias\n",
    "\n",
    "    def forward(self, inputs):\n",
    "        h = np.zeros((self.hidden_size, 1))  # initial hidden state\n",
    "        for t in range(len(inputs)):\n",
    "            x = np.array(inputs[t]).reshape(-1, 1)\n",
    "            h = np.tanh(np.dot(self.Wxh, x) + np.dot(self.Whh, h) + self.bh)\n",
    "        y = np.dot(self.Why, h) + self.by\n",
    "        return y, h\n",
    "\n",
    "# Example usage:\n",
    "rnn = VanillaRNN(input_size=10, hidden_size=20, output_size=1)\n",
    "inputs = [np.random.randn(10) for _ in range(5)]  # sequence of 5 inputs\n",
    "output, hidden_state = rnn.forward(inputs)\n",
    "print(\"Output:\", output)\n"
   ]
  }
 ],
 "metadata": {
  "kernelspec": {
   "display_name": ".venv",
   "language": "python",
   "name": "python3"
  },
  "language_info": {
   "codemirror_mode": {
    "name": "ipython",
    "version": 3
   },
   "file_extension": ".py",
   "mimetype": "text/x-python",
   "name": "python",
   "nbconvert_exporter": "python",
   "pygments_lexer": "ipython3",
   "version": "3.12.2"
  }
 },
 "nbformat": 4,
 "nbformat_minor": 2
}
