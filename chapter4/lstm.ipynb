{
 "cells": [
  {
   "cell_type": "code",
   "execution_count": 1,
   "metadata": {},
   "outputs": [
    {
     "name": "stdout",
     "output_type": "stream",
     "text": [
      "Validation Loss: 0.6923662424087524\n",
      "Validation Accuracy: 0.47999998927116394\n"
     ]
    }
   ],
   "source": [
    "import numpy as np\n",
    "from keras.models import Sequential\n",
    "from keras.layers import LSTM, Dense, Input\n",
    "from keras.utils import to_categorical\n",
    "from sklearn.model_selection import train_test_split\n",
    "\n",
    "# Sample data\n",
    "X = np.random.rand(1000, 10, 1)  # 1000 samples, 10 timesteps, 1 feature\n",
    "y = np.random.randint(0, 2, 1000)  # Binary classification (0 or 1)\n",
    "\n",
    "# Convert labels to categorical one-hot encoding\n",
    "y = to_categorical(y, num_classes=2)\n",
    "\n",
    "# Split the data into training and validation sets\n",
    "X_train, X_val, y_train, y_val = train_test_split(X, y, test_size=0.2, random_state=42)\n",
    "\n",
    "# Define the LSTM model\n",
    "model = Sequential()\n",
    "model.add(Input(shape=(10, 1)))  # Input layer with input shape of 10 timesteps and 1 feature\n",
    "model.add(LSTM(128, activation = 'relu')) # 128 LSTM units, input shape corresponds to timesteps and features\n",
    "model.add(Dense(2, activation='softmax'))  # Output layer with 2 units (for binary classification) and softmax activation\n",
    "\n",
    "# Compile the model\n",
    "model.compile(loss='categorical_crossentropy', optimizer='adam', metrics=['accuracy'])\n",
    "\n",
    "# Train the model\n",
    "model.fit(X_train, y_train, batch_size=32, epochs=10, validation_data=(X_val, y_val), verbose=0)\n",
    "\n",
    "# Evaluate the model\n",
    "loss, accuracy = model.evaluate(X_val, y_val, verbose=0)\n",
    "print(f'Validation Loss: {loss}')\n",
    "print(f'Validation Accuracy: {accuracy}')\n"
   ]
  },
  {
   "cell_type": "code",
   "execution_count": 2,
   "metadata": {},
   "outputs": [
    {
     "name": "stdout",
     "output_type": "stream",
     "text": [
      "Fibonacci sequence: [0, 1, 1, 2, 3, 5, 8, 13, 21, 34, 55, 89, 144, 233, 377, 610, 987, 1597, 2584, 4181]\n",
      "X shape: (18, 2, 1)\n",
      "y shape: (18,)\n"
     ]
    },
    {
     "name": "stderr",
     "output_type": "stream",
     "text": [
      "d:\\09_Project_2024\\04_DeepLearning\\DeepLearning\\.venv\\Lib\\site-packages\\keras\\src\\layers\\rnn\\rnn.py:204: UserWarning: Do not pass an `input_shape`/`input_dim` argument to a layer. When using Sequential models, prefer using an `Input(shape)` object as the first layer in the model instead.\n",
      "  super().__init__(**kwargs)\n"
     ]
    },
    {
     "name": "stdout",
     "output_type": "stream",
     "text": [
      "Predicted next Fibonacci number: 6763.847\n"
     ]
    }
   ],
   "source": [
    "import numpy as np\n",
    "from keras.models import Sequential # type: ignore\n",
    "from keras.layers import LSTM, Dense # type: ignore\n",
    "from sklearn.preprocessing import MinMaxScaler\n",
    "\n",
    "# Function to generate Fibonacci sequence\n",
    "def generate_fibonacci(n):\n",
    "    fib_sequence = [0, 1]\n",
    "    for i in range(2, n):\n",
    "        fib_sequence.append(fib_sequence[-1] + fib_sequence[-2])\n",
    "    return fib_sequence\n",
    "\n",
    "# Generate Fibonacci sequence\n",
    "n = 20\n",
    "sequence = generate_fibonacci(n)\n",
    "print(\"Fibonacci sequence:\", sequence)\n",
    "\n",
    "# Prepare the data\n",
    "def create_dataset(seq):\n",
    "    X, y = [], []\n",
    "    for i in range(len(seq) - 2):\n",
    "        X.append([seq[i], seq[i + 1]])\n",
    "        y.append(seq[i + 2])\n",
    "    return np.array(X), np.array(y)\n",
    "\n",
    "X, y = create_dataset(sequence)\n",
    "\n",
    "# Reshape from [samples, timesteps] into [samples, timesteps, features]\n",
    "X = X.reshape((X.shape[0], X.shape[1], 1))\n",
    "\n",
    "print(\"X shape:\", X.shape)\n",
    "print(\"y shape:\", y.shape)\n",
    "\n",
    "# Define the LSTM model\n",
    "model = Sequential()\n",
    "model.add(LSTM(50, activation='relu', input_shape=(X.shape[1], 1)))\n",
    "model.add(Dense(1))\n",
    "\n",
    "# Compile the model\n",
    "model.compile(optimizer='adam', loss='mse')\n",
    "\n",
    "# Train the model\n",
    "model.fit(X, y, epochs=300, verbose=0)\n",
    "\n",
    "# Demonstrate prediction\n",
    "x_input = np.array([sequence[-2], sequence[-1]]).reshape((1, 2, 1))\n",
    "yhat = model.predict(x_input, verbose=0)\n",
    "print(\"Predicted next Fibonacci number:\", yhat[0][0])\n"
   ]
  },
  {
   "cell_type": "code",
   "execution_count": 3,
   "metadata": {},
   "outputs": [],
   "source": [
    "import numpy as np\n",
    "from keras.models import Sequential  # type: ignore\n",
    "from keras.layers import LSTM, Dense # type: ignore\n",
    "import pandas as pd\n",
    "\n",
    "# Generate Fibonacci sequence\n",
    "def generate_fibonacci(n):\n",
    "    fib_sequence = [0, 1]\n",
    "    for i in range(2, n):\n",
    "        next_value = fib_sequence[i-1] + fib_sequence[i-2]\n",
    "        fib_sequence.append(next_value)\n",
    "    return fib_sequence\n",
    "\n",
    "# Prepare the dataset\n",
    "def create_dataset(sequence):\n",
    "    X, y = [], []\n",
    "    for i in range(len(sequence) - 2):\n",
    "        X.append([sequence[i], sequence[i+1]])\n",
    "        y.append(sequence[i+2])\n",
    "    return np.array(X), np.array(y)\n",
    "\n",
    "# Parameters\n",
    "n_seq = 20  # Length of the Fibonacci sequence\n",
    "\n",
    "# Generate the Fibonacci sequence\n",
    "fib_sequence = generate_fibonacci(n_seq + 2)  # Generate enough values for input-output pairs\n",
    "\n",
    "# Create the dataset\n",
    "X, y = create_dataset(fib_sequence)\n",
    "\n",
    "# Reshape from [samples, timesteps] to [samples, timesteps, features]\n",
    "X = X.reshape((X.shape[0], 2, 1))\n",
    "\n",
    "# Define the LSTM model\n",
    "model = Sequential()\n",
    "model.add(Input(shape=(2, 1)))\n",
    "model.add(LSTM(50, activation='relu'))\n",
    "model.add(Dense(1))\n",
    "model.compile(optimizer='adam', loss='mse')\n",
    "\n",
    "# Fit the model\n",
    "model.fit(X, y, epochs=300, verbose=0)\n",
    "\n",
    "# Demonstrate prediction\n",
    "yhat = model.predict(X, verbose=0)\n",
    "df = pd.DataFrame({'X_{t-2}': X[:, 0, 0], 'X_{t-1}': X[:, 1, 0],'y': y, 'y_hat': np.round(yhat[:, 0])})\n"
   ]
  }
 ],
 "metadata": {
  "kernelspec": {
   "display_name": ".venv",
   "language": "python",
   "name": "python3"
  },
  "language_info": {
   "codemirror_mode": {
    "name": "ipython",
    "version": 3
   },
   "file_extension": ".py",
   "mimetype": "text/x-python",
   "name": "python",
   "nbconvert_exporter": "python",
   "pygments_lexer": "ipython3",
   "version": "3.12.2"
  }
 },
 "nbformat": 4,
 "nbformat_minor": 2
}
